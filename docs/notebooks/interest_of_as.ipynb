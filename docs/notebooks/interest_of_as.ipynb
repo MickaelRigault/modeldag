{
 "cells": [
  {
   "cell_type": "markdown",
   "id": "4a53f698",
   "metadata": {},
   "source": [
    "# the interest of `as`\n",
    "\n",
    "\n",
    "The `as` parameter enables you to change the name between the keyword given during the `model` *dict* definition for the corresponding output column in the resulting pandas.DataFrame.\n",
    "\n",
    "Most importantly, it enables to handle `func` that have multiple outputs.\n",
    "\n",
    "**Here is an example**\n",
    "\n",
    "Say you want to draw random coordinates in the sky. These parameters are named right-ascension (`ra`) and declination (`dec`). To be consistent, it is best to draw them together in a function that returns both `ra` and `dec`."
   ]
  },
  {
   "cell_type": "code",
   "execution_count": 4,
   "id": "f46d0a8c",
   "metadata": {},
   "outputs": [],
   "source": [
    "import numpy as np\n",
    "def random_radec(size=None, ra_range=[0,360], dec_range=[-90,90]):\n",
    "    \"\"\" evenly distributed R.A. Dec. coordinates in the sky. \"\"\"\n",
    "    dec_sin_range = np.sin(np.asarray(dec_range)*np.pi/180)\n",
    "    ra = np.random.uniform(*ra_range, size=size)\n",
    "    dec = np.arcsin( np.random.uniform(*dec_sin_range, size=size) ) / (np.pi/180)\n",
    "    return ra, dec\n",
    "\n",
    "ra, dec = random_radec(100)"
   ]
  },
  {
   "cell_type": "markdown",
   "id": "57ff3328",
   "metadata": {},
   "source": [
    "When building the ``model``, ``as`` enables you to provide the name of each columns."
   ]
  },
  {
   "cell_type": "code",
   "execution_count": 5,
   "id": "eefe8570",
   "metadata": {},
   "outputs": [
    {
     "data": {
      "text/html": [
       "<div>\n",
       "<style scoped>\n",
       "    .dataframe tbody tr th:only-of-type {\n",
       "        vertical-align: middle;\n",
       "    }\n",
       "\n",
       "    .dataframe tbody tr th {\n",
       "        vertical-align: top;\n",
       "    }\n",
       "\n",
       "    .dataframe thead th {\n",
       "        text-align: right;\n",
       "    }\n",
       "</style>\n",
       "<table border=\"1\" class=\"dataframe\">\n",
       "  <thead>\n",
       "    <tr style=\"text-align: right;\">\n",
       "      <th></th>\n",
       "      <th>ra</th>\n",
       "      <th>dec</th>\n",
       "    </tr>\n",
       "  </thead>\n",
       "  <tbody>\n",
       "    <tr>\n",
       "      <th>0</th>\n",
       "      <td>240.824815</td>\n",
       "      <td>-18.296477</td>\n",
       "    </tr>\n",
       "    <tr>\n",
       "      <th>1</th>\n",
       "      <td>290.301063</td>\n",
       "      <td>10.045797</td>\n",
       "    </tr>\n",
       "    <tr>\n",
       "      <th>2</th>\n",
       "      <td>52.287264</td>\n",
       "      <td>-19.179657</td>\n",
       "    </tr>\n",
       "    <tr>\n",
       "      <th>3</th>\n",
       "      <td>158.120240</td>\n",
       "      <td>28.280304</td>\n",
       "    </tr>\n",
       "    <tr>\n",
       "      <th>4</th>\n",
       "      <td>100.653273</td>\n",
       "      <td>-5.789090</td>\n",
       "    </tr>\n",
       "  </tbody>\n",
       "</table>\n",
       "</div>"
      ],
      "text/plain": [
       "           ra        dec\n",
       "0  240.824815 -18.296477\n",
       "1  290.301063  10.045797\n",
       "2   52.287264 -19.179657\n",
       "3  158.120240  28.280304\n",
       "4  100.653273  -5.789090"
      ]
     },
     "execution_count": 5,
     "metadata": {},
     "output_type": "execute_result"
    }
   ],
   "source": [
    "import modeldag\n",
    "\n",
    "# model construction    \n",
    "model = {\"radec\": {\"func\": random_radec, \"as\": [\"ra\",\"dec\"]} }\n",
    "\n",
    "# create the DAG\n",
    "dag = modeldag.ModelDAG(model)\n",
    "data = dag.draw(100)\n",
    "data.head()"
   ]
  },
  {
   "cell_type": "code",
   "execution_count": null,
   "id": "45edb001",
   "metadata": {},
   "outputs": [],
   "source": []
  }
 ],
 "metadata": {
  "kernelspec": {
   "display_name": "Python 3 (ipykernel)",
   "language": "python",
   "name": "python3"
  },
  "language_info": {
   "codemirror_mode": {
    "name": "ipython",
    "version": 3
   },
   "file_extension": ".py",
   "mimetype": "text/x-python",
   "name": "python",
   "nbconvert_exporter": "python",
   "pygments_lexer": "ipython3",
   "version": "3.9.16"
  }
 },
 "nbformat": 4,
 "nbformat_minor": 5
}
