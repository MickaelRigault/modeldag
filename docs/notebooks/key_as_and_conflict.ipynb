{
 "cells": [
  {
   "cell_type": "markdown",
   "id": "d194d7b0-03d5-4415-9f00-33e6ea30db3a",
   "metadata": {},
   "source": [
    "# `key`, `as` and conflict\n",
    "\n",
    "in a dict, it is easy to change a model by overwriting its entry such as:"
   ]
  },
  {
   "cell_type": "code",
   "execution_count": 57,
   "id": "512f1430-c3dc-4f74-b9c8-378b13d9f81f",
   "metadata": {},
   "outputs": [
    {
     "name": "stdout",
     "output_type": "stream",
     "text": [
      "{'a': {'func': <built-in method uniform of numpy.random.mtrand.RandomState object at 0x107872d40>,\n",
      "       'kwargs': {'high': 60, 'low': 50}},\n",
      " 'b': {'func': <built-in method uniform of numpy.random.mtrand.RandomState object at 0x107872d40>,\n",
      "       'kwargs': {'high': 110, 'low': 100}}}\n"
     ]
    }
   ],
   "source": [
    "import numpy as np\n",
    "from pprint import pprint\n",
    "import modeldag\n",
    "\n",
    "# a default model with -10<a<0 and 100<b<110\n",
    "initial_model = {\"a\": {\"func\": np.random.uniform, \"kwargs\": {\"low\": -10, \"high\":0}},\n",
    "                 \"b\": {\"func\": np.random.uniform, \"kwargs\": {\"low\": 100, \"high\":110}},\n",
    "                }\n",
    "# update the model by changing its a entry\n",
    "update_model = {\"a\": {\"func\": np.random.uniform, \"kwargs\": {\"low\": 50, \"high\":60}}}\n",
    "\n",
    "# such that the final model has \"b\" from the initial and \"a\" from the update:\n",
    "model = initial_model | update_model\n",
    "pprint(model)"
   ]
  },
  {
   "cell_type": "markdown",
   "id": "aae189ac-abd7-4872-bb28-951f37304035",
   "metadata": {},
   "source": [
    "but with the \"as\" options, this can but lost. \n",
    "\n",
    "**Fortunately, ModelDAG checks this while loading the model.**\n",
    "***\n",
    "*There is however several cases or interest*\n",
    "***"
   ]
  },
  {
   "cell_type": "markdown",
   "id": "57568eb8-9fc7-4cf1-b110-cd555f84fae7",
   "metadata": {},
   "source": [
    "## Single `as=name` case\n",
    "\n",
    "This is the simplest case, key of the updating dict does not match with that from the initial dict, but the `as` makes it so."
   ]
  },
  {
   "cell_type": "code",
   "execution_count": 58,
   "id": "fd7e5929-ec18-4917-a9e6-18ac74cff9b5",
   "metadata": {},
   "outputs": [
    {
     "name": "stdout",
     "output_type": "stream",
     "text": [
      "{'a': {'func': <built-in method uniform of numpy.random.mtrand.RandomState object at 0x107872d40>,\n",
      "       'kwargs': {'high': 0, 'low': -10}},\n",
      " 'b': {'func': <built-in method uniform of numpy.random.mtrand.RandomState object at 0x107872d40>,\n",
      "       'kwargs': {'high': 110, 'low': 100}},\n",
      " 'new_a': {'as': 'a',\n",
      "           'func': <built-in method uniform of numpy.random.mtrand.RandomState object at 0x107872d40>,\n",
      "           'kwargs': {'high': 60, 'low': 50}}}\n"
     ]
    }
   ],
   "source": [
    "# a default model with -10<a<0 and 100<b<110\n",
    "initial_model = {\"a\": {\"func\": np.random.uniform, \"kwargs\": {\"low\": -10, \"high\":0}},\n",
    "                 \"b\": {\"func\": np.random.uniform, \"kwargs\": {\"low\": 100, \"high\":110}},\n",
    "                }\n",
    "\n",
    "# update the model by changing its a entry\n",
    "update_model = {\"new_a\": {\"func\": np.random.uniform, \n",
    "                          \"kwargs\": {\"low\": 50, \"high\":60},\n",
    "                          \"as\":\"a\" # this will lead to 'a' in the final dataframe, so effectively overwriting 'a'\n",
    "                         }\n",
    "               }\n",
    "\n",
    "# such that the final model has \"b\" from the initial and \"a\" from the update:\n",
    "model = initial_model | update_model\n",
    "pprint(model)"
   ]
  },
  {
   "cell_type": "markdown",
   "id": "18383b80-de28-4e99-ae42-38f5acc97f1c",
   "metadata": {},
   "source": [
    "There seem to be a conflict, but modeldag has tools that checks in 'as' to clean the input model\n",
    "\n",
    "It knows here as \"new_a\" should be assumed as 'a' and therefore behaves as such"
   ]
  },
  {
   "cell_type": "code",
   "execution_count": 59,
   "id": "f4d4b2a0-49cd-4442-b625-fd31ebf68ff4",
   "metadata": {},
   "outputs": [],
   "source": [
    "dag = modeldag.ModelDAG(model)"
   ]
  },
  {
   "cell_type": "code",
   "execution_count": 60,
   "id": "d0a8ae0c-fd33-451e-9237-d6e39353a63e",
   "metadata": {},
   "outputs": [
    {
     "name": "stdout",
     "output_type": "stream",
     "text": [
      "{'b': {'func': <built-in method uniform of numpy.random.mtrand.RandomState object at 0x107872d40>,\n",
      "       'kwargs': {'low': 100, 'high': 110}},\n",
      " 'new_a': {'func': <built-in method uniform of numpy.random.mtrand.RandomState object at 0x107872d40>,\n",
      "           'kwargs': {'low': 50, 'high': 60},\n",
      "           'as': 'a'}}\n"
     ]
    }
   ],
   "source": [
    "pprint(dag.model,  sort_dicts=False)"
   ]
  },
  {
   "cell_type": "code",
   "execution_count": 61,
   "id": "4993e8f6-917f-409a-b99e-f95b8b7a8d96",
   "metadata": {},
   "outputs": [
    {
     "data": {
      "text/html": [
       "<div>\n",
       "<style scoped>\n",
       "    .dataframe tbody tr th:only-of-type {\n",
       "        vertical-align: middle;\n",
       "    }\n",
       "\n",
       "    .dataframe tbody tr th {\n",
       "        vertical-align: top;\n",
       "    }\n",
       "\n",
       "    .dataframe thead th {\n",
       "        text-align: right;\n",
       "    }\n",
       "</style>\n",
       "<table border=\"1\" class=\"dataframe\">\n",
       "  <thead>\n",
       "    <tr style=\"text-align: right;\">\n",
       "      <th></th>\n",
       "      <th>b</th>\n",
       "      <th>a</th>\n",
       "    </tr>\n",
       "  </thead>\n",
       "  <tbody>\n",
       "    <tr>\n",
       "      <th>0</th>\n",
       "      <td>106.309783</td>\n",
       "      <td>57.430408</td>\n",
       "    </tr>\n",
       "    <tr>\n",
       "      <th>1</th>\n",
       "      <td>102.372642</td>\n",
       "      <td>57.531347</td>\n",
       "    </tr>\n",
       "  </tbody>\n",
       "</table>\n",
       "</div>"
      ],
      "text/plain": [
       "            b          a\n",
       "0  106.309783  57.430408\n",
       "1  102.372642  57.531347"
      ]
     },
     "execution_count": 61,
     "metadata": {},
     "output_type": "execute_result"
    }
   ],
   "source": [
    "dag.draw(2)"
   ]
  },
  {
   "cell_type": "markdown",
   "id": "3bd305ef-b098-4f86-b48e-98fa1211f8fc",
   "metadata": {},
   "source": [
    "***\n",
    "## `as=list` cases\n",
    "\n",
    "Things are most complex with `as` is used to specify that several entries as used. and again several cases exist\n",
    "\n",
    "\n",
    "### joined draw overwrites former keys"
   ]
  },
  {
   "cell_type": "code",
   "execution_count": 62,
   "id": "64aa105b-68c4-4c52-b60f-f121790c7081",
   "metadata": {},
   "outputs": [
    {
     "name": "stdout",
     "output_type": "stream",
     "text": [
      "{'a': {'func': <built-in method uniform of numpy.random.mtrand.RandomState object at 0x107872d40>,\n",
      "       'kwargs': {'low': -10, 'high': 0}},\n",
      " 'b': {'func': <built-in method uniform of numpy.random.mtrand.RandomState object at 0x107872d40>,\n",
      "       'kwargs': {'low': 100, 'high': 110}},\n",
      " 'a_and_b': {'func': <function joined_draw at 0x1345722a0>,\n",
      "             'kwargs': {'low': 0, 'high': 2},\n",
      "             'as': ['a', 'b']}}\n"
     ]
    }
   ],
   "source": [
    "def joined_draw(size, alpha=3., beta=1.5, **kwargs):\n",
    "    \"\"\" \"\"\"\n",
    "    a = np.random.uniform(size=size, **kwargs)\n",
    "    b = a*alpha + beta\n",
    "    return a, b\n",
    "\n",
    "# a default model with -10<a<0 and 100<b<110\n",
    "initial_model = {\"a\": {\"func\": np.random.uniform, \"kwargs\": {\"low\": -10, \"high\":0}},\n",
    "                 \"b\": {\"func\": np.random.uniform, \"kwargs\": {\"low\": 100, \"high\":110}},\n",
    "                }\n",
    "\n",
    "# Now, new model makes that a and b are drawn simultaneously.\n",
    "update_model = {\"a_and_b\": {\"func\": joined_draw, \n",
    "                             \"kwargs\": {\"low\":0, \"high\":2}, \n",
    "                             \"as\": [\"a\", \"b\"]}\n",
    "                }\n",
    "\n",
    "model = initial_model | update_model\n",
    "pprint(model, sort_dicts=False)"
   ]
  },
  {
   "cell_type": "markdown",
   "id": "b12d4259-85db-4a34-849a-15b83b373aa2",
   "metadata": {},
   "source": [
    "**In that case:** the solution is simple, ModelDAG knows it has to overwrite both `a` and `b` with the new `a_and_b`"
   ]
  },
  {
   "cell_type": "code",
   "execution_count": 63,
   "id": "538a4f9d-2d17-4535-bca2-fd6167a8d5d0",
   "metadata": {},
   "outputs": [
    {
     "data": {
      "text/plain": [
       "{'a_and_b': {'func': <function __main__.joined_draw(size, alpha=3.0, beta=1.5, **kwargs)>,\n",
       "  'kwargs': {'low': 0, 'high': 2},\n",
       "  'as': ['a', 'b']}}"
      ]
     },
     "execution_count": 63,
     "metadata": {},
     "output_type": "execute_result"
    }
   ],
   "source": [
    "dag = modeldag.ModelDAG(model)\n",
    "dag.model"
   ]
  },
  {
   "cell_type": "markdown",
   "id": "2e22b77b-b4a3-44de-b5ba-5eb119b78bda",
   "metadata": {},
   "source": [
    "Say now that only `b` is updated by the joined draw, but now `a`"
   ]
  },
  {
   "cell_type": "code",
   "execution_count": 64,
   "id": "e183bf2f-ab90-44d6-a6c2-682433561a3c",
   "metadata": {},
   "outputs": [],
   "source": [
    "# Now, new model makes that a and b are drawn simultaneously.\n",
    "update_model = {\"b_and_c\": {\"func\": joined_draw, \n",
    "                             \"kwargs\": {\"low\":0, \"high\":2}, \n",
    "                             \"as\": [\"b\",\"c\"]}\n",
    "                }\n"
   ]
  },
  {
   "cell_type": "markdown",
   "id": "cbb1fe92-6fac-4172-989f-5c8dac5bca24",
   "metadata": {},
   "source": [
    "Same, it is easy for ModelDAG to know what to do:\n",
    " - `a` is left unchanged\n",
    " - `b` is replaced by the b_and_c draw."
   ]
  },
  {
   "cell_type": "code",
   "execution_count": 65,
   "id": "e73373a3-658f-4e27-93ff-9f01cbdd257f",
   "metadata": {},
   "outputs": [
    {
     "data": {
      "text/plain": [
       "{'a': {'func': <function RandomState.uniform>,\n",
       "  'kwargs': {'low': -10, 'high': 0}},\n",
       " 'b_and_c': {'func': <function __main__.joined_draw(size, alpha=3.0, beta=1.5, **kwargs)>,\n",
       "  'kwargs': {'low': 0, 'high': 2},\n",
       "  'as': ['b', 'c']}}"
      ]
     },
     "execution_count": 65,
     "metadata": {},
     "output_type": "execute_result"
    }
   ],
   "source": [
    "dag = modeldag.ModelDAG( initial_model | update_model )\n",
    "dag.model"
   ]
  },
  {
   "cell_type": "code",
   "execution_count": null,
   "id": "bb503ced-9d2f-4752-97bf-b3191e64858d",
   "metadata": {},
   "outputs": [],
   "source": []
  },
  {
   "cell_type": "markdown",
   "id": "f8979f9c-a29b-4bee-8f62-c5f9c5b1c2db",
   "metadata": {},
   "source": [
    "### new draw overwrites former as=list"
   ]
  },
  {
   "cell_type": "markdown",
   "id": "4d1fc91c-094c-43ea-8a2f-e11a6276c637",
   "metadata": {},
   "source": [
    "Say you and up with a model dict that has no obvious solutions, for instance"
   ]
  },
  {
   "cell_type": "code",
   "execution_count": 66,
   "id": "15e38c28-ef50-42a9-8239-01355d3e9626",
   "metadata": {},
   "outputs": [],
   "source": [
    "# a default model with -10<a<0 and 100<b<110\n",
    "complex_model = {\"a\": {\"func\": np.random.uniform, \n",
    "                       \"kwargs\": {\"low\": -10, \"high\":0}},\n",
    "                 \n",
    "                 \"a_and_b\": {\"func\": joined_draw, \n",
    "                             \"kwargs\": {\"low\":0, \"high\":2}, \n",
    "                             \"as\": [\"a\", \"b\"]},\n",
    "                 \"b\": {\"func\": np.random.uniform, \"kwargs\": {\"low\": 100, \"high\":110}},\n",
    "                }"
   ]
  },
  {
   "cell_type": "markdown",
   "id": "b1105297-79cb-4d6d-8ca2-2d8018dd2f95",
   "metadata": {},
   "source": [
    "here `a_and_b` is expected to replace `a`. That is ok. \n",
    "\n",
    "But after, `b` wants to replace existing `b` drawn as part of `a_and_b`. But then what about `a` ? Since both `a` and `b` are supposed to be drawn together, it does not make sense to *just* replace `b`.\n",
    "\n",
    "**In such a case**, `ModelDAG` will raise a `ValueError` but default"
   ]
  },
  {
   "cell_type": "code",
   "execution_count": 67,
   "id": "69d06fc9-56a6-4861-a293-05974e7f89e9",
   "metadata": {},
   "outputs": [
    {
     "ename": "ValueError",
     "evalue": "new key_or_as='b' cannot replace that from a_and_b ('as': ['a', 'b'])",
     "output_type": "error",
     "traceback": [
      "\u001b[0;31m---------------------------------------------------------------------------\u001b[0m",
      "\u001b[0;31mValueError\u001b[0m                                Traceback (most recent call last)",
      "Cell \u001b[0;32mIn[67], line 1\u001b[0m\n\u001b[0;32m----> 1\u001b[0m dag \u001b[38;5;241m=\u001b[39m \u001b[43mmodeldag\u001b[49m\u001b[38;5;241;43m.\u001b[39;49m\u001b[43mModelDAG\u001b[49m\u001b[43m(\u001b[49m\u001b[43m \u001b[49m\u001b[43mcomplex_model\u001b[49m\u001b[43m \u001b[49m\u001b[43m)\u001b[49m\n",
      "File \u001b[0;32m~/miniforge3/envs/ztfdc/lib/python3.11/site-packages/modeldag/modeldag.py:69\u001b[0m, in \u001b[0;36mModelDAG.__init__\u001b[0;34m(self, model, obj, as_conflict)\u001b[0m\n\u001b[1;32m     47\u001b[0m \u001b[38;5;28;01mdef\u001b[39;00m \u001b[38;5;21m__init__\u001b[39m(\u001b[38;5;28mself\u001b[39m, model\u001b[38;5;241m=\u001b[39m{}, obj\u001b[38;5;241m=\u001b[39m\u001b[38;5;28;01mNone\u001b[39;00m, as_conflict\u001b[38;5;241m=\u001b[39m\u001b[38;5;124m\"\u001b[39m\u001b[38;5;124mraise\u001b[39m\u001b[38;5;124m\"\u001b[39m):\n\u001b[1;32m     48\u001b[0m \u001b[38;5;250m    \u001b[39m\u001b[38;5;124;03m\"\"\" \u001b[39;00m\n\u001b[1;32m     49\u001b[0m \u001b[38;5;124;03m    \u001b[39;00m\n\u001b[1;32m     50\u001b[0m \u001b[38;5;124;03m    Parameters\u001b[39;00m\n\u001b[0;32m   (...)\u001b[0m\n\u001b[1;32m     67\u001b[0m \u001b[38;5;124;03m    instance\u001b[39;00m\n\u001b[1;32m     68\u001b[0m \u001b[38;5;124;03m    \"\"\"\u001b[39;00m\n\u001b[0;32m---> 69\u001b[0m     \u001b[38;5;28;43mself\u001b[39;49m\u001b[38;5;241;43m.\u001b[39;49m\u001b[43mset_model\u001b[49m\u001b[43m(\u001b[49m\u001b[43m \u001b[49m\u001b[43mmodel\u001b[49m\u001b[43m,\u001b[49m\u001b[43m \u001b[49m\u001b[43mas_conflict\u001b[49m\u001b[38;5;241;43m=\u001b[39;49m\u001b[43mas_conflict\u001b[49m\u001b[43m)\u001b[49m\n\u001b[1;32m     70\u001b[0m     \u001b[38;5;28mself\u001b[39m\u001b[38;5;241m.\u001b[39mobj \u001b[38;5;241m=\u001b[39m obj\n",
      "File \u001b[0;32m~/miniforge3/envs/ztfdc/lib/python3.11/site-packages/modeldag/modeldag.py:168\u001b[0m, in \u001b[0;36mModelDAG.set_model\u001b[0;34m(self, model, as_conflict)\u001b[0m\n\u001b[1;32m    166\u001b[0m \u001b[38;5;250m\u001b[39m\u001b[38;5;124;03m\"\"\" sets the model to the instance (inplace) applying basic validation. \"\"\"\u001b[39;00m\n\u001b[1;32m    167\u001b[0m \u001b[38;5;28;01mfrom\u001b[39;00m \u001b[38;5;21;01m.\u001b[39;00m\u001b[38;5;21;01mtools\u001b[39;00m \u001b[38;5;28;01mimport\u001b[39;00m _get_valid_model_\n\u001b[0;32m--> 168\u001b[0m \u001b[38;5;28mself\u001b[39m\u001b[38;5;241m.\u001b[39m_model \u001b[38;5;241m=\u001b[39m \u001b[43m_get_valid_model_\u001b[49m\u001b[43m(\u001b[49m\u001b[43mmodel\u001b[49m\u001b[43m,\u001b[49m\u001b[43m \u001b[49m\u001b[43mas_conflict\u001b[49m\u001b[38;5;241;43m=\u001b[39;49m\u001b[43mas_conflict\u001b[49m\u001b[43m)\u001b[49m\n",
      "File \u001b[0;32m~/miniforge3/envs/ztfdc/lib/python3.11/site-packages/modeldag/tools.py:93\u001b[0m, in \u001b[0;36m_get_valid_model_\u001b[0;34m(model, as_conflict)\u001b[0m\n\u001b[1;32m     88\u001b[0m     value[\u001b[38;5;124m\"\u001b[39m\u001b[38;5;124mkwargs\u001b[39m\u001b[38;5;124m\"\u001b[39m] \u001b[38;5;241m=\u001b[39m {}\n\u001b[1;32m     90\u001b[0m \u001b[38;5;66;03m#\u001b[39;00m\n\u001b[1;32m     91\u001b[0m \u001b[38;5;66;03m# one of the new as or key overwrites known key or former as.\u001b[39;00m\n\u001b[1;32m     92\u001b[0m \u001b[38;5;66;03m#\u001b[39;00m\n\u001b[0;32m---> 93\u001b[0m key_to_pop \u001b[38;5;241m=\u001b[39m \u001b[43m_as_to_key_to_pop_\u001b[49m\u001b[43m(\u001b[49m\u001b[43mkey\u001b[49m\u001b[43m,\u001b[49m\u001b[43m \u001b[49m\u001b[43mpast_as\u001b[49m\u001b[43m,\u001b[49m\u001b[43m \u001b[49m\u001b[43mconflict\u001b[49m\u001b[38;5;241;43m=\u001b[39;49m\u001b[43mas_conflict\u001b[49m\u001b[43m)\u001b[49m\n\u001b[1;32m     94\u001b[0m \u001b[38;5;28;01mif\u001b[39;00m key_to_pop \u001b[38;5;129;01mis\u001b[39;00m \u001b[38;5;129;01mnot\u001b[39;00m \u001b[38;5;28;01mNone\u001b[39;00m:\n\u001b[1;32m     95\u001b[0m     _ \u001b[38;5;241m=\u001b[39m out_model\u001b[38;5;241m.\u001b[39mpop(key_to_pop)\n",
      "File \u001b[0;32m~/miniforge3/envs/ztfdc/lib/python3.11/site-packages/modeldag/tools.py:60\u001b[0m, in \u001b[0;36m_as_to_key_to_pop_\u001b[0;34m(key_or_as, past_as, conflict)\u001b[0m\n\u001b[1;32m     58\u001b[0m \u001b[38;5;66;03m# crashes\u001b[39;00m\n\u001b[1;32m     59\u001b[0m \u001b[38;5;28;01melif\u001b[39;00m conflict \u001b[38;5;241m==\u001b[39m \u001b[38;5;124m\"\u001b[39m\u001b[38;5;124mraise\u001b[39m\u001b[38;5;124m\"\u001b[39m:\n\u001b[0;32m---> 60\u001b[0m     \u001b[38;5;28;01mraise\u001b[39;00m \u001b[38;5;167;01mValueError\u001b[39;00m(\u001b[38;5;124mf\u001b[39m\u001b[38;5;124m\"\u001b[39m\u001b[38;5;124mnew \u001b[39m\u001b[38;5;132;01m{\u001b[39;00mkey_or_as\u001b[38;5;132;01m=}\u001b[39;00m\u001b[38;5;124m cannot replace that from \u001b[39m\u001b[38;5;132;01m{\u001b[39;00mthis_as[\u001b[38;5;124m'\u001b[39m\u001b[38;5;124minput_key\u001b[39m\u001b[38;5;124m'\u001b[39m]\u001b[38;5;132;01m}\u001b[39;00m\u001b[38;5;124m (\u001b[39m\u001b[38;5;124m'\u001b[39m\u001b[38;5;124mas\u001b[39m\u001b[38;5;124m'\u001b[39m\u001b[38;5;124m: \u001b[39m\u001b[38;5;132;01m{\u001b[39;00mthis_as[\u001b[38;5;124m'\u001b[39m\u001b[38;5;124mas_orig\u001b[39m\u001b[38;5;124m'\u001b[39m]\u001b[38;5;132;01m}\u001b[39;00m\u001b[38;5;124m)\u001b[39m\u001b[38;5;124m\"\u001b[39m)\n\u001b[1;32m     61\u001b[0m \u001b[38;5;66;03m# ignores\u001b[39;00m\n\u001b[1;32m     62\u001b[0m \u001b[38;5;28;01melif\u001b[39;00m conflict \u001b[38;5;129;01min\u001b[39;00m [\u001b[38;5;124m\"\u001b[39m\u001b[38;5;124mwarn\u001b[39m\u001b[38;5;124m\"\u001b[39m, \u001b[38;5;124m\"\u001b[39m\u001b[38;5;124mskip\u001b[39m\u001b[38;5;124m\"\u001b[39m]:\n",
      "\u001b[0;31mValueError\u001b[0m: new key_or_as='b' cannot replace that from a_and_b ('as': ['a', 'b'])"
     ]
    }
   ],
   "source": [
    "dag = modeldag.ModelDAG( complex_model )"
   ]
  },
  {
   "cell_type": "markdown",
   "id": "64e29fde-1f9b-488b-bd8b-8b7a2306e1aa",
   "metadata": {},
   "source": [
    "You can however force it to accept this by specifying as_conflict='warn' or 'skip'."
   ]
  },
  {
   "cell_type": "code",
   "execution_count": 70,
   "id": "6863b2e9-c679-4fef-b7e4-5075075d807c",
   "metadata": {},
   "outputs": [
    {
     "name": "stderr",
     "output_type": "stream",
     "text": [
      "/Users/rigault/miniforge3/envs/ztfdc/lib/python3.11/site-packages/modeldag/tools.py:65: UserWarning: new key_or_as='b' cannot replace that from a_and_b ('as': this_as['as_orig']). This is skiped. Potentially leads to conflict.\n",
      "  warnings.warn(f\"new {key_or_as=} cannot replace that from {this_as['input_key']} ('as': this_as['as_orig']). This is skiped. Potentially leads to conflict.\")\n"
     ]
    }
   ],
   "source": [
    "dag = modeldag.ModelDAG( complex_model, as_conflict=\"warn\") # use skip to ignore the warning."
   ]
  },
  {
   "cell_type": "code",
   "execution_count": 71,
   "id": "00889d47-aeff-4294-89d4-379cb6169449",
   "metadata": {},
   "outputs": [
    {
     "data": {
      "text/html": [
       "<div>\n",
       "<style scoped>\n",
       "    .dataframe tbody tr th:only-of-type {\n",
       "        vertical-align: middle;\n",
       "    }\n",
       "\n",
       "    .dataframe tbody tr th {\n",
       "        vertical-align: top;\n",
       "    }\n",
       "\n",
       "    .dataframe thead th {\n",
       "        text-align: right;\n",
       "    }\n",
       "</style>\n",
       "<table border=\"1\" class=\"dataframe\">\n",
       "  <thead>\n",
       "    <tr style=\"text-align: right;\">\n",
       "      <th></th>\n",
       "      <th>a</th>\n",
       "      <th>b</th>\n",
       "    </tr>\n",
       "  </thead>\n",
       "  <tbody>\n",
       "    <tr>\n",
       "      <th>0</th>\n",
       "      <td>1.651262</td>\n",
       "      <td>104.747112</td>\n",
       "    </tr>\n",
       "    <tr>\n",
       "      <th>1</th>\n",
       "      <td>0.028661</td>\n",
       "      <td>106.084687</td>\n",
       "    </tr>\n",
       "    <tr>\n",
       "      <th>2</th>\n",
       "      <td>1.160684</td>\n",
       "      <td>103.223104</td>\n",
       "    </tr>\n",
       "  </tbody>\n",
       "</table>\n",
       "</div>"
      ],
      "text/plain": [
       "          a           b\n",
       "0  1.651262  104.747112\n",
       "1  0.028661  106.084687\n",
       "2  1.160684  103.223104"
      ]
     },
     "execution_count": 71,
     "metadata": {},
     "output_type": "execute_result"
    }
   ],
   "source": [
    "dag.draw(3)"
   ]
  },
  {
   "cell_type": "markdown",
   "id": "732317aa-5fb4-4478-abbe-d9724a2e55ad",
   "metadata": {},
   "source": [
    "In that case `b` will be overwritten and `a` unchanged."
   ]
  },
  {
   "cell_type": "code",
   "execution_count": null,
   "id": "757fe1b2-3be8-46e1-992c-7a59295ad365",
   "metadata": {},
   "outputs": [],
   "source": []
  }
 ],
 "metadata": {
  "kernelspec": {
   "display_name": "Python 3 (ipykernel)",
   "language": "python",
   "name": "python3"
  },
  "language_info": {
   "codemirror_mode": {
    "name": "ipython",
    "version": 3
   },
   "file_extension": ".py",
   "mimetype": "text/x-python",
   "name": "python",
   "nbconvert_exporter": "python",
   "pygments_lexer": "ipython3",
   "version": "3.11.10"
  }
 },
 "nbformat": 4,
 "nbformat_minor": 5
}
